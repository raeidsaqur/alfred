{
 "cells": [
  {
   "cell_type": "markdown",
   "metadata": {},
   "source": [
    "## ALFRED DATASET\n",
    "\n"
   ]
  },
  {
   "cell_type": "code",
   "execution_count": 2,
   "metadata": {},
   "outputs": [],
   "source": [
    "import os, sys, platform\n",
    "import os.path as osp\n",
    "import json\n",
    "import numpy as np\n",
    "import networkx as nx\n",
    "from typing import *\n",
    "\n",
    "import matplotlib\n",
    "import matplotlib.pyplot as plt\n",
    "%matplotlib inline\n",
    "\n",
    "import spacy\n",
    "from spacy import displacy\n",
    "import scipy.sparse as sp\n",
    "import sympy; sympy.init_printing()\n",
    "\n",
    "import torch\n",
    "torch.manual_seed(42)\n",
    "\n",
    "from IPython.core.display import display, Image, HTML\n",
    "from IPython.core.debugger import set_trace\n",
    "\n"
   ]
  },
  {
   "cell_type": "markdown",
   "metadata": {},
   "source": [
    "### Env Setup"
   ]
  },
  {
   "cell_type": "code",
   "execution_count": 3,
   "metadata": {},
   "outputs": [],
   "source": [
    "PROJ_DIR = f\"{osp.expanduser('~')}/Research/projects/embodied-ai/alf\"\n",
    "DATA_DIR = f\"/mnt/sda4/DATA/ALFRED/data\"\n",
    "node = platform.node()\n",
    "if (node == 'v') or ('gpu' in node):\n",
    "    print(\"On Vector cluster\")\n",
    "    %env MUJOCO_GL=egl\n",
    "    DATA_DIR = \"/scratch/ssd004/datasets/alfred/data\"\n",
    "    \n",
    "nb_dir = osp.split(os.getcwd())[0]\n",
    "if nb_dir not in sys.path:\n",
    "    sys.path.insert(0, nb_dir)\n",
    "\n",
    "# print(f\"{os.name}.{platform.system()}.{platform.release()}.{platform.node()}\")\n",
    "# print(f'os.cwd() -> {os.getcwd()}')"
   ]
  },
  {
   "cell_type": "markdown",
   "metadata": {},
   "source": [
    "### Helpers"
   ]
  },
  {
   "cell_type": "code",
   "execution_count": 4,
   "metadata": {},
   "outputs": [],
   "source": [
    "def display_matrix(m):\n",
    "    display(sympy.Matrix(m))\n",
    "    \n",
    "def visualize(doc, dep=False):\n",
    "    displacy.render(doc, style='ent', jupyter=True)\n",
    "    if dep:\n",
    "        displacy.render(doc, style='dep', jupyter=True, options={'distance': 70})\n"
   ]
  },
  {
   "cell_type": "code",
   "execution_count": 26,
   "metadata": {},
   "outputs": [
    {
     "name": "stdout",
     "output_type": "stream",
     "text": [
      "torch.Size([12, 3])\n"
     ]
    }
   ],
   "source": [
    "import torch\n",
    "from torch import nn\n",
    "from torch.nn import functional as F\n",
    "from torch.nn.parameter import Parameter\n",
    "\n",
    "in_feat = 2\n",
    "out_feat = 3\n",
    "m = nn.Linear(in_feat, out_feat)\n",
    "inp = torch.randn(12, in_feat)\n",
    "out = m(inp)\n",
    "print(out.size())\n"
   ]
  },
  {
   "cell_type": "code",
   "execution_count": 27,
   "metadata": {},
   "outputs": [],
   "source": [
    "W = Parameter(torch.Tensor(out_feat, in_feat))\n",
    "b = Parameter(torch.Tensor(out_feat))"
   ]
  },
  {
   "cell_type": "code",
   "execution_count": 28,
   "metadata": {},
   "outputs": [
    {
     "data": {
      "text/plain": [
       "Parameter containing:\n",
       "tensor([2.6172e+24, 4.5644e-41, 2.6172e+24], requires_grad=True)"
      ]
     },
     "execution_count": 28,
     "metadata": {},
     "output_type": "execute_result"
    }
   ],
   "source": [
    "W.shape\n",
    "# b.size()\n",
    "b"
   ]
  },
  {
   "cell_type": "code",
   "execution_count": 29,
   "metadata": {},
   "outputs": [
    {
     "data": {
      "text/plain": [
       "tensor([[-1.5839e+24,  2.4445e+33, -2.6625e-44],\n",
       "        [ 5.2228e+23, -8.0608e+32,  8.4078e-45],\n",
       "        [ 1.0561e+24, -1.6299e+33,  1.8217e-44],\n",
       "        [-1.3657e+24,  2.1079e+33, -2.3822e-44],\n",
       "        [ 2.2258e+24, -3.4354e+33,  3.7835e-44],\n",
       "        [-3.6692e+24,  5.6631e+33, -6.3058e-44],\n",
       "        [-5.7726e+23,  8.9094e+32, -9.8091e-45],\n",
       "        [ 8.9399e+23, -1.3798e+33,  1.5414e-44],\n",
       "        [ 3.7489e+24, -5.7861e+33,  6.4460e-44],\n",
       "        [-2.9540e+24,  4.5591e+33, -5.0447e-44],\n",
       "        [-7.3685e+23,  1.1373e+33, -1.2612e-44],\n",
       "        [ 1.1122e+24, -1.7166e+33,  1.9618e-44]], grad_fn=<MmBackward>)"
      ]
     },
     "execution_count": 29,
     "metadata": {},
     "output_type": "execute_result"
    }
   ],
   "source": [
    "# F.linear(inp, W).shape\n",
    "output = inp.matmul(W.t())\n",
    "output"
   ]
  },
  {
   "cell_type": "code",
   "execution_count": 30,
   "metadata": {},
   "outputs": [
    {
     "data": {
      "text/plain": [
       "tensor([[ 1.0333e+24,  2.4445e+33,  2.6172e+24],\n",
       "        [ 3.1394e+24, -8.0608e+32,  2.6172e+24],\n",
       "        [ 3.6732e+24, -1.6299e+33,  2.6172e+24],\n",
       "        [ 1.2514e+24,  2.1079e+33,  2.6172e+24],\n",
       "        [ 4.8430e+24, -3.4354e+33,  2.6172e+24],\n",
       "        [-1.0521e+24,  5.6631e+33,  2.6172e+24],\n",
       "        [ 2.0399e+24,  8.9094e+32,  2.6172e+24],\n",
       "        [ 3.5111e+24, -1.3798e+33,  2.6172e+24],\n",
       "        [ 6.3661e+24, -5.7861e+33,  2.6172e+24],\n",
       "        [-3.3679e+23,  4.5591e+33,  2.6172e+24],\n",
       "        [ 1.8803e+24,  1.1373e+33,  2.6172e+24],\n",
       "        [ 3.7294e+24, -1.7166e+33,  2.6172e+24]], grad_fn=<AddBackward0>)"
      ]
     },
     "execution_count": 30,
     "metadata": {},
     "output_type": "execute_result"
    }
   ],
   "source": [
    "output += b\n",
    "output"
   ]
  },
  {
   "cell_type": "code",
   "execution_count": null,
   "metadata": {},
   "outputs": [],
   "source": []
  }
 ],
 "metadata": {
  "kernelspec": {
   "display_name": "alfred_env",
   "language": "python",
   "name": "alfred_env"
  },
  "language_info": {
   "codemirror_mode": {
    "name": "ipython",
    "version": 3
   },
   "file_extension": ".py",
   "mimetype": "text/x-python",
   "name": "python",
   "nbconvert_exporter": "python",
   "pygments_lexer": "ipython3",
   "version": "3.8.1"
  }
 },
 "nbformat": 4,
 "nbformat_minor": 4
}
