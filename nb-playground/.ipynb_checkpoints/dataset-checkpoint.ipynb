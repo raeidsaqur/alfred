{
 "cells": [
  {
   "cell_type": "markdown",
   "metadata": {},
   "source": [
    "## ALFRED DATASET\n",
    "\n"
   ]
  },
  {
   "cell_type": "code",
   "execution_count": 1,
   "metadata": {},
   "outputs": [],
   "source": [
    "import os, sys, platform\n",
    "import os.path as osp\n",
    "import json\n",
    "import numpy as np\n",
    "import networkx as nx\n",
    "from typing import *\n",
    "\n",
    "import matplotlib\n",
    "import matplotlib.pyplot as plt\n",
    "%matplotlib inline\n",
    "\n",
    "import spacy\n",
    "from spacy import displacy\n",
    "import scipy.sparse as sp\n",
    "import sympy; sympy.init_printing()\n",
    "\n",
    "import torch\n",
    "torch.manual_seed(42)\n",
    "\n",
    "from IPython.core.display import display, Image, HTML\n",
    "from IPython.core.debugger import set_trace\n",
    "\n"
   ]
  },
  {
   "cell_type": "markdown",
   "metadata": {},
   "source": [
    "### Env Setup"
   ]
  },
  {
   "cell_type": "code",
   "execution_count": 2,
   "metadata": {},
   "outputs": [],
   "source": [
    "PROJ_DIR = f\"{osp.expanduser('~')}/Research/projects/embodied-ai/alf\"\n",
    "DATA_DIR = f\"/mnt/sda4/DATA/ALFRED/data\"\n",
    "node = platform.node()\n",
    "if (node == 'v') or ('gpu' in node):\n",
    "    print(\"On Vector cluster\")\n",
    "    %env MUJOCO_GL=egl\n",
    "    DATA_DIR = \"/scratch/ssd004/datasets/alfred/data\"\n",
    "    \n",
    "nb_dir = osp.split(os.getcwd())[0]\n",
    "if nb_dir not in sys.path:\n",
    "    sys.path.insert(0, nb_dir)\n",
    "\n",
    "# print(f\"{os.name}.{platform.system()}.{platform.release()}.{platform.node()}\")\n",
    "# print(f'os.cwd() -> {os.getcwd()}')"
   ]
  },
  {
   "cell_type": "markdown",
   "metadata": {},
   "source": [
    "### Helpers"
   ]
  },
  {
   "cell_type": "code",
   "execution_count": 3,
   "metadata": {},
   "outputs": [],
   "source": [
    "def display_matrix(m):\n",
    "    display(sympy.Matrix(m))\n",
    "    \n",
    "def visualize(doc, dep=False):\n",
    "    displacy.render(doc, style='ent', jupyter=True)\n",
    "    if dep:\n",
    "        displacy.render(doc, style='dep', jupyter=True, options={'distance': 70})\n"
   ]
  },
  {
   "cell_type": "code",
   "execution_count": 8,
   "metadata": {},
   "outputs": [
    {
     "data": {
      "text/plain": [
       "'/home/raeidsaqur'"
      ]
     },
     "execution_count": 8,
     "metadata": {},
     "output_type": "execute_result"
    }
   ],
   "source": []
  },
  {
   "cell_type": "code",
   "execution_count": null,
   "metadata": {},
   "outputs": [],
   "source": []
  },
  {
   "cell_type": "code",
   "execution_count": null,
   "metadata": {},
   "outputs": [],
   "source": []
  },
  {
   "cell_type": "code",
   "execution_count": null,
   "metadata": {},
   "outputs": [],
   "source": []
  }
 ],
 "metadata": {
  "kernelspec": {
   "display_name": "alfred_env",
   "language": "python",
   "name": "alfred_env"
  },
  "language_info": {
   "codemirror_mode": {
    "name": "ipython",
    "version": 3
   },
   "file_extension": ".py",
   "mimetype": "text/x-python",
   "name": "python",
   "nbconvert_exporter": "python",
   "pygments_lexer": "ipython3",
   "version": "3.8.1"
  }
 },
 "nbformat": 4,
 "nbformat_minor": 4
}
